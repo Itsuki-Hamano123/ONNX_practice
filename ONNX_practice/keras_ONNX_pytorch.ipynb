{
  "nbformat": 4,
  "nbformat_minor": 0,
  "metadata": {
    "colab": {
      "name": "keras_ONNX_pytorch.ipynb",
      "provenance": [],
      "collapsed_sections": [],
      "toc_visible": true,
      "include_colab_link": true
    },
    "kernelspec": {
      "name": "python3",
      "display_name": "Python 3"
    },
    "accelerator": "GPU"
  },
  "cells": [
    {
      "cell_type": "markdown",
      "metadata": {
        "id": "view-in-github",
        "colab_type": "text"
      },
      "source": [
        "<a href=\"https://colab.research.google.com/github/Itsuki-Hamano123/ONNX_practice/blob/master/ONNX_practice/keras_ONNX_pytorch.ipynb\" target=\"_parent\"><img src=\"https://colab.research.google.com/assets/colab-badge.svg\" alt=\"Open In Colab\"/></a>"
      ]
    },
    {
      "cell_type": "code",
      "metadata": {
        "id": "dWO0X6iAAG0k",
        "colab_type": "code",
        "outputId": "91edbdda-23d0-4e61-e678-f36e96c9cd36",
        "colab": {
          "base_uri": "https://localhost:8080/",
          "height": 127
        }
      },
      "source": [
        "# GoogleCoraboratoryで実験する場合にMyDriveをマウント\n",
        "from google.colab import drive\n",
        "drive.mount('/content/drive')"
      ],
      "execution_count": 1,
      "outputs": [
        {
          "output_type": "stream",
          "text": [
            "Go to this URL in a browser: https://accounts.google.com/o/oauth2/auth?client_id=947318989803-6bn6qk8qdgf4n4g3pfee6491hc0brc4i.apps.googleusercontent.com&redirect_uri=urn%3aietf%3awg%3aoauth%3a2.0%3aoob&response_type=code&scope=email%20https%3a%2f%2fwww.googleapis.com%2fauth%2fdocs.test%20https%3a%2f%2fwww.googleapis.com%2fauth%2fdrive%20https%3a%2f%2fwww.googleapis.com%2fauth%2fdrive.photos.readonly%20https%3a%2f%2fwww.googleapis.com%2fauth%2fpeopleapi.readonly\n",
            "\n",
            "Enter your authorization code:\n",
            "··········\n",
            "Mounted at /content/drive\n"
          ],
          "name": "stdout"
        }
      ]
    },
    {
      "cell_type": "code",
      "metadata": {
        "id": "J3meQYgMBnPx",
        "colab_type": "code",
        "outputId": "d6552dce-bcba-4cbd-b56b-3f55b2dcfd98",
        "colab": {
          "base_uri": "https://localhost:8080/",
          "height": 35
        }
      },
      "source": [
        "# 対象ディレクトリに移動\n",
        "cd /content/drive/My Drive/機械学習練習/ONNX"
      ],
      "execution_count": 2,
      "outputs": [
        {
          "output_type": "stream",
          "text": [
            "/content/drive/My Drive/機械学習練習/ONNX\n"
          ],
          "name": "stdout"
        }
      ]
    },
    {
      "cell_type": "code",
      "metadata": {
        "id": "bRN0CtylCS8q",
        "colab_type": "code",
        "outputId": "a4044fd0-5c2d-4de8-a661-5a88375dd56c",
        "colab": {
          "base_uri": "https://localhost:8080/",
          "height": 35
        }
      },
      "source": [
        "ls"
      ],
      "execution_count": 3,
      "outputs": [
        {
          "output_type": "stream",
          "text": [
            "keras_ONNX_pytorch.ipynb  \u001b[0m\u001b[01;34mModel\u001b[0m/\n"
          ],
          "name": "stdout"
        }
      ]
    },
    {
      "cell_type": "code",
      "metadata": {
        "id": "b8JOvCYPqIQk",
        "colab_type": "code",
        "colab": {
          "base_uri": "https://localhost:8080/",
          "height": 739
        },
        "outputId": "8286a887-e170-4364-f057-b81cacc8bf15"
      },
      "source": [
        "!pip install onnxmltools"
      ],
      "execution_count": 12,
      "outputs": [
        {
          "output_type": "stream",
          "text": [
            "Collecting onnxmltools\n",
            "\u001b[?25l  Downloading https://files.pythonhosted.org/packages/3a/b0/ca4724611c59bb7cebecbb27214f3c834aaef719332ac54bdd7c65932ee6/onnxmltools-1.6.0-py2.py3-none-any.whl (287kB)\n",
            "\r\u001b[K     |█▏                              | 10kB 28.5MB/s eta 0:00:01\r\u001b[K     |██▎                             | 20kB 4.7MB/s eta 0:00:01\r\u001b[K     |███▍                            | 30kB 6.7MB/s eta 0:00:01\r\u001b[K     |████▋                           | 40kB 8.7MB/s eta 0:00:01\r\u001b[K     |█████▊                          | 51kB 6.0MB/s eta 0:00:01\r\u001b[K     |██████▉                         | 61kB 6.7MB/s eta 0:00:01\r\u001b[K     |████████                        | 71kB 7.3MB/s eta 0:00:01\r\u001b[K     |█████████▏                      | 81kB 7.8MB/s eta 0:00:01\r\u001b[K     |██████████▎                     | 92kB 8.6MB/s eta 0:00:01\r\u001b[K     |███████████▍                    | 102kB 8.2MB/s eta 0:00:01\r\u001b[K     |████████████▌                   | 112kB 8.2MB/s eta 0:00:01\r\u001b[K     |█████████████▊                  | 122kB 8.2MB/s eta 0:00:01\r\u001b[K     |██████████████▉                 | 133kB 8.2MB/s eta 0:00:01\r\u001b[K     |████████████████                | 143kB 8.2MB/s eta 0:00:01\r\u001b[K     |█████████████████               | 153kB 8.2MB/s eta 0:00:01\r\u001b[K     |██████████████████▎             | 163kB 8.2MB/s eta 0:00:01\r\u001b[K     |███████████████████▍            | 174kB 8.2MB/s eta 0:00:01\r\u001b[K     |████████████████████▌           | 184kB 8.2MB/s eta 0:00:01\r\u001b[K     |█████████████████████▊          | 194kB 8.2MB/s eta 0:00:01\r\u001b[K     |██████████████████████▉         | 204kB 8.2MB/s eta 0:00:01\r\u001b[K     |████████████████████████        | 215kB 8.2MB/s eta 0:00:01\r\u001b[K     |█████████████████████████       | 225kB 8.2MB/s eta 0:00:01\r\u001b[K     |██████████████████████████▎     | 235kB 8.2MB/s eta 0:00:01\r\u001b[K     |███████████████████████████▍    | 245kB 8.2MB/s eta 0:00:01\r\u001b[K     |████████████████████████████▌   | 256kB 8.2MB/s eta 0:00:01\r\u001b[K     |█████████████████████████████▋  | 266kB 8.2MB/s eta 0:00:01\r\u001b[K     |██████████████████████████████▉ | 276kB 8.2MB/s eta 0:00:01\r\u001b[K     |████████████████████████████████| 286kB 8.2MB/s eta 0:00:01\r\u001b[K     |████████████████████████████████| 296kB 8.2MB/s \n",
            "\u001b[?25hCollecting keras2onnx\n",
            "\u001b[?25l  Downloading https://files.pythonhosted.org/packages/60/df/38475abd5ef1e0c5a19f021add159e8a07d10525b2c01f13bf06371aedd4/keras2onnx-1.6.0-py3-none-any.whl (219kB)\n",
            "\r\u001b[K     |█▌                              | 10kB 34.7MB/s eta 0:00:01\r\u001b[K     |███                             | 20kB 43.8MB/s eta 0:00:01\r\u001b[K     |████▌                           | 30kB 53.6MB/s eta 0:00:01\r\u001b[K     |██████                          | 40kB 24.9MB/s eta 0:00:01\r\u001b[K     |███████▌                        | 51kB 27.5MB/s eta 0:00:01\r\u001b[K     |█████████                       | 61kB 31.3MB/s eta 0:00:01\r\u001b[K     |██████████▍                     | 71kB 30.4MB/s eta 0:00:01\r\u001b[K     |████████████                    | 81kB 33.0MB/s eta 0:00:01\r\u001b[K     |█████████████▍                  | 92kB 26.1MB/s eta 0:00:01\r\u001b[K     |███████████████                 | 102kB 27.8MB/s eta 0:00:01\r\u001b[K     |████████████████▍               | 112kB 27.8MB/s eta 0:00:01\r\u001b[K     |██████████████████              | 122kB 27.8MB/s eta 0:00:01\r\u001b[K     |███████████████████▍            | 133kB 27.8MB/s eta 0:00:01\r\u001b[K     |████████████████████▉           | 143kB 27.8MB/s eta 0:00:01\r\u001b[K     |██████████████████████▍         | 153kB 27.8MB/s eta 0:00:01\r\u001b[K     |███████████████████████▉        | 163kB 27.8MB/s eta 0:00:01\r\u001b[K     |█████████████████████████▍      | 174kB 27.8MB/s eta 0:00:01\r\u001b[K     |██████████████████████████▉     | 184kB 27.8MB/s eta 0:00:01\r\u001b[K     |████████████████████████████▎   | 194kB 27.8MB/s eta 0:00:01\r\u001b[K     |█████████████████████████████▉  | 204kB 27.8MB/s eta 0:00:01\r\u001b[K     |███████████████████████████████▎| 215kB 27.8MB/s eta 0:00:01\r\u001b[K     |████████████████████████████████| 225kB 27.8MB/s \n",
            "\u001b[?25hRequirement already satisfied: six in /usr/local/lib/python3.6/dist-packages (from onnxmltools) (1.12.0)\n",
            "Requirement already satisfied: numpy in /usr/local/lib/python3.6/dist-packages (from onnxmltools) (1.17.5)\n",
            "Requirement already satisfied: protobuf in /usr/local/lib/python3.6/dist-packages (from onnxmltools) (3.10.0)\n",
            "Collecting skl2onnx\n",
            "\u001b[?25l  Downloading https://files.pythonhosted.org/packages/11/8b/21a32b9f4669959678db5abe41774b2ce0544a92ed42683cf79b065d7a8b/skl2onnx-1.6.0-py2.py3-none-any.whl (161kB)\n",
            "\u001b[K     |████████████████████████████████| 163kB 30.1MB/s \n",
            "\u001b[?25hCollecting onnx\n",
            "\u001b[?25l  Downloading https://files.pythonhosted.org/packages/f5/f4/e126b60d109ad1e80020071484b935980b7cce1e4796073aab086a2d6902/onnx-1.6.0-cp36-cp36m-manylinux1_x86_64.whl (4.8MB)\n",
            "\u001b[K     |████████████████████████████████| 4.8MB 30.2MB/s \n",
            "\u001b[?25hCollecting onnxconverter-common>=1.5.0\n",
            "\u001b[?25l  Downloading https://files.pythonhosted.org/packages/77/3d/6112c19223d1eabbedf1b063567034e1463a11d7c82d1820f26b75d14e3c/onnxconverter_common-1.6.0-py2.py3-none-any.whl (43kB)\n",
            "\u001b[K     |████████████████████████████████| 51kB 9.5MB/s \n",
            "\u001b[?25hCollecting fire\n",
            "\u001b[?25l  Downloading https://files.pythonhosted.org/packages/d9/69/faeaae8687f4de0f5973694d02e9d6c3eb827636a009157352d98de1129e/fire-0.2.1.tar.gz (76kB)\n",
            "\u001b[K     |████████████████████████████████| 81kB 12.5MB/s \n",
            "\u001b[?25hRequirement already satisfied: requests in /usr/local/lib/python3.6/dist-packages (from keras2onnx->onnxmltools) (2.21.0)\n",
            "Requirement already satisfied: setuptools in /usr/local/lib/python3.6/dist-packages (from protobuf->onnxmltools) (45.1.0)\n",
            "Requirement already satisfied: scikit-learn>=0.19 in /usr/local/lib/python3.6/dist-packages (from skl2onnx->onnxmltools) (0.22.1)\n",
            "Requirement already satisfied: typing-extensions>=3.6.2.1 in /usr/local/lib/python3.6/dist-packages (from onnx->onnxmltools) (3.6.6)\n",
            "Requirement already satisfied: termcolor in /usr/local/lib/python3.6/dist-packages (from fire->keras2onnx->onnxmltools) (1.1.0)\n",
            "Requirement already satisfied: certifi>=2017.4.17 in /usr/local/lib/python3.6/dist-packages (from requests->keras2onnx->onnxmltools) (2019.11.28)\n",
            "Requirement already satisfied: chardet<3.1.0,>=3.0.2 in /usr/local/lib/python3.6/dist-packages (from requests->keras2onnx->onnxmltools) (3.0.4)\n",
            "Requirement already satisfied: urllib3<1.25,>=1.21.1 in /usr/local/lib/python3.6/dist-packages (from requests->keras2onnx->onnxmltools) (1.24.3)\n",
            "Requirement already satisfied: idna<2.9,>=2.5 in /usr/local/lib/python3.6/dist-packages (from requests->keras2onnx->onnxmltools) (2.8)\n",
            "Requirement already satisfied: scipy>=0.17.0 in /usr/local/lib/python3.6/dist-packages (from scikit-learn>=0.19->skl2onnx->onnxmltools) (1.4.1)\n",
            "Requirement already satisfied: joblib>=0.11 in /usr/local/lib/python3.6/dist-packages (from scikit-learn>=0.19->skl2onnx->onnxmltools) (0.14.1)\n",
            "Building wheels for collected packages: fire\n",
            "  Building wheel for fire (setup.py) ... \u001b[?25l\u001b[?25hdone\n",
            "  Created wheel for fire: filename=fire-0.2.1-py2.py3-none-any.whl size=103528 sha256=c83a7192659cbed7a7258dbb2a64e33fec8e77e853ca43c7cd2c7860e1cd7ed5\n",
            "  Stored in directory: /root/.cache/pip/wheels/31/9c/c0/07b6dc7faf1844bb4688f46b569efe6cafaa2179c95db821da\n",
            "Successfully built fire\n",
            "Installing collected packages: onnx, onnxconverter-common, fire, keras2onnx, skl2onnx, onnxmltools\n",
            "Successfully installed fire-0.2.1 keras2onnx-1.6.0 onnx-1.6.0 onnxconverter-common-1.6.0 onnxmltools-1.6.0 skl2onnx-1.6.0\n"
          ],
          "name": "stdout"
        }
      ]
    },
    {
      "cell_type": "markdown",
      "metadata": {
        "id": "rMaFYqGyf2FY",
        "colab_type": "text"
      },
      "source": [
        "# ONNXを使い、異なるフレームワーク間のモデルを相互変換する"
      ]
    },
    {
      "cell_type": "markdown",
      "metadata": {
        "id": "mVMNwW7lgJen",
        "colab_type": "text"
      },
      "source": [
        "参考サイト\n",
        "- [公式サイト](https://onnx.ai/supported-tools.html#buildModel)\n",
        "- [tensorflow to PyTorchサンプルコード](https://github.com/onnx/tutorials/blob/master/tutorials/PytorchTensorflowMnist.ipynb)\n",
        "- [export Keras Modelサンプルコード](https://github.com/onnx/onnxmltools)"
      ]
    },
    {
      "cell_type": "markdown",
      "metadata": {
        "id": "FcKBdVzSgwSO",
        "colab_type": "text"
      },
      "source": [
        "**kerasモデルをONNXを媒介しPyTorchモデルに変換**\n",
        "## 手順\n",
        "1. kerasモデルの読み込み（推論）\n",
        "2. kerasモデルをONNXファイルに書き出し\n",
        "3. ONNXファイルをPyTorchモデルに読み込み（推論）"
      ]
    },
    {
      "cell_type": "markdown",
      "metadata": {
        "id": "GaWnGuOLhf3o",
        "colab_type": "text"
      },
      "source": [
        "# 1.kerasモデルの読み込み（推論）"
      ]
    },
    {
      "cell_type": "code",
      "metadata": {
        "id": "bS94YYgxC--0",
        "colab_type": "code",
        "colab": {
          "base_uri": "https://localhost:8080/",
          "height": 35
        },
        "outputId": "dc7833ce-3215-4170-9f6a-595ee0919413"
      },
      "source": [
        "import tensorflow as tf\n",
        "tf.keras.__version__"
      ],
      "execution_count": 11,
      "outputs": [
        {
          "output_type": "execute_result",
          "data": {
            "text/plain": [
              "'2.2.4-tf'"
            ]
          },
          "metadata": {
            "tags": []
          },
          "execution_count": 11
        }
      ]
    },
    {
      "cell_type": "code",
      "metadata": {
        "id": "naTf6qbji8mW",
        "colab_type": "code",
        "colab": {}
      },
      "source": [
        ""
      ],
      "execution_count": 0,
      "outputs": []
    }
  ]
}