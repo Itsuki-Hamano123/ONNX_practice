{
  "nbformat": 4,
  "nbformat_minor": 0,
  "metadata": {
    "colab": {
      "name": "keras_ONNX_pytorch.ipynb",
      "provenance": [],
      "collapsed_sections": [],
      "toc_visible": true,
      "include_colab_link": true
    },
    "kernelspec": {
      "name": "python3",
      "display_name": "Python 3"
    },
    "accelerator": "GPU"
  },
  "cells": [
    {
      "cell_type": "markdown",
      "metadata": {
        "id": "view-in-github",
        "colab_type": "text"
      },
      "source": [
        "<a href=\"https://colab.research.google.com/github/Itsuki-Hamano123/ONNX_practice/blob/master/keras_ONNX_pytorch.ipynb\" target=\"_parent\"><img src=\"https://colab.research.google.com/assets/colab-badge.svg\" alt=\"Open In Colab\"/></a>"
      ]
    },
    {
      "cell_type": "code",
      "metadata": {
        "id": "dWO0X6iAAG0k",
        "colab_type": "code",
        "outputId": "e84ee26b-0dbd-46d9-fe8c-fab63d95417b",
        "colab": {
          "base_uri": "https://localhost:8080/",
          "height": 55
        }
      },
      "source": [
        "# GoogleCoraboratoryで実験する場合にMyDriveをマウント\n",
        "from google.colab import drive\n",
        "drive.mount('/content/drive')"
      ],
      "execution_count": 1,
      "outputs": [
        {
          "output_type": "stream",
          "text": [
            "Drive already mounted at /content/drive; to attempt to forcibly remount, call drive.mount(\"/content/drive\", force_remount=True).\n"
          ],
          "name": "stdout"
        }
      ]
    },
    {
      "cell_type": "code",
      "metadata": {
        "id": "J3meQYgMBnPx",
        "colab_type": "code",
        "outputId": "47868682-3dc1-4453-b62c-3c8a912b9acd",
        "colab": {
          "base_uri": "https://localhost:8080/",
          "height": 35
        }
      },
      "source": [
        "# 対象ディレクトリに移動\n",
        "cd /content/drive/My Drive/機械学習練習/ONNX"
      ],
      "execution_count": 2,
      "outputs": [
        {
          "output_type": "stream",
          "text": [
            "/content/drive/My Drive/機械学習練習/ONNX\n"
          ],
          "name": "stdout"
        }
      ]
    },
    {
      "cell_type": "code",
      "metadata": {
        "id": "bRN0CtylCS8q",
        "colab_type": "code",
        "outputId": "173d7e03-6dca-40a8-b43e-365d4a7ed25c",
        "colab": {
          "base_uri": "https://localhost:8080/",
          "height": 35
        }
      },
      "source": [
        "ls"
      ],
      "execution_count": 3,
      "outputs": [
        {
          "output_type": "stream",
          "text": [
            "\u001b[0m\u001b[01;34mdatasets\u001b[0m/  keras_ONNX_pytorch.ipynb  \u001b[01;34mModel\u001b[0m/\n"
          ],
          "name": "stdout"
        }
      ]
    },
    {
      "cell_type": "code",
      "metadata": {
        "id": "b8JOvCYPqIQk",
        "colab_type": "code",
        "colab": {
          "base_uri": "https://localhost:8080/",
          "height": 397
        },
        "outputId": "1a6515d8-7f7f-4fa6-9e90-c1775389b9ab"
      },
      "source": [
        "!pip install onnxmltools"
      ],
      "execution_count": 4,
      "outputs": [
        {
          "output_type": "stream",
          "text": [
            "Requirement already satisfied: onnxmltools in /usr/local/lib/python3.6/dist-packages (1.6.0)\n",
            "Requirement already satisfied: keras2onnx in /usr/local/lib/python3.6/dist-packages (from onnxmltools) (1.6.0)\n",
            "Requirement already satisfied: protobuf in /usr/local/lib/python3.6/dist-packages (from onnxmltools) (3.10.0)\n",
            "Requirement already satisfied: six in /usr/local/lib/python3.6/dist-packages (from onnxmltools) (1.12.0)\n",
            "Requirement already satisfied: skl2onnx in /usr/local/lib/python3.6/dist-packages (from onnxmltools) (1.6.0)\n",
            "Requirement already satisfied: numpy in /usr/local/lib/python3.6/dist-packages (from onnxmltools) (1.17.5)\n",
            "Requirement already satisfied: onnx in /usr/local/lib/python3.6/dist-packages (from onnxmltools) (1.6.0)\n",
            "Requirement already satisfied: onnxconverter-common>=1.5.0 in /usr/local/lib/python3.6/dist-packages (from onnxmltools) (1.6.0)\n",
            "Requirement already satisfied: fire in /usr/local/lib/python3.6/dist-packages (from keras2onnx->onnxmltools) (0.2.1)\n",
            "Requirement already satisfied: requests in /usr/local/lib/python3.6/dist-packages (from keras2onnx->onnxmltools) (2.21.0)\n",
            "Requirement already satisfied: setuptools in /usr/local/lib/python3.6/dist-packages (from protobuf->onnxmltools) (45.1.0)\n",
            "Requirement already satisfied: scikit-learn>=0.19 in /usr/local/lib/python3.6/dist-packages (from skl2onnx->onnxmltools) (0.22.1)\n",
            "Requirement already satisfied: typing-extensions>=3.6.2.1 in /usr/local/lib/python3.6/dist-packages (from onnx->onnxmltools) (3.6.6)\n",
            "Requirement already satisfied: termcolor in /usr/local/lib/python3.6/dist-packages (from fire->keras2onnx->onnxmltools) (1.1.0)\n",
            "Requirement already satisfied: urllib3<1.25,>=1.21.1 in /usr/local/lib/python3.6/dist-packages (from requests->keras2onnx->onnxmltools) (1.24.3)\n",
            "Requirement already satisfied: certifi>=2017.4.17 in /usr/local/lib/python3.6/dist-packages (from requests->keras2onnx->onnxmltools) (2019.11.28)\n",
            "Requirement already satisfied: chardet<3.1.0,>=3.0.2 in /usr/local/lib/python3.6/dist-packages (from requests->keras2onnx->onnxmltools) (3.0.4)\n",
            "Requirement already satisfied: idna<2.9,>=2.5 in /usr/local/lib/python3.6/dist-packages (from requests->keras2onnx->onnxmltools) (2.8)\n",
            "Requirement already satisfied: scipy>=0.17.0 in /usr/local/lib/python3.6/dist-packages (from scikit-learn>=0.19->skl2onnx->onnxmltools) (1.4.1)\n",
            "Requirement already satisfied: joblib>=0.11 in /usr/local/lib/python3.6/dist-packages (from scikit-learn>=0.19->skl2onnx->onnxmltools) (0.14.1)\n"
          ],
          "name": "stdout"
        }
      ]
    },
    {
      "cell_type": "markdown",
      "metadata": {
        "id": "rMaFYqGyf2FY",
        "colab_type": "text"
      },
      "source": [
        "# ONNXを使い、異なるフレームワーク間のモデルを相互変換する"
      ]
    },
    {
      "cell_type": "markdown",
      "metadata": {
        "id": "mVMNwW7lgJen",
        "colab_type": "text"
      },
      "source": [
        "参考サイト\n",
        "- [公式サイト](https://onnx.ai/supported-tools.html#buildModel)\n",
        "- [tensorflow to PyTorchサンプルコード](https://github.com/onnx/tutorials/blob/master/tutorials/PytorchTensorflowMnist.ipynb)\n",
        "- [export Keras Modelサンプルコード](https://github.com/onnx/onnxmltools)"
      ]
    },
    {
      "cell_type": "markdown",
      "metadata": {
        "id": "FcKBdVzSgwSO",
        "colab_type": "text"
      },
      "source": [
        "**kerasモデルをONNXを媒介しPyTorchモデルに変換**\n",
        "## 手順\n",
        "1. tensorflowモデルの読み込み（推論）\n",
        "2. tensorflowモデルをONNXファイルに書き出し\n",
        "3. ONNXファイルをPyTorchモデルに読み込み（推論）"
      ]
    },
    {
      "cell_type": "markdown",
      "metadata": {
        "id": "GaWnGuOLhf3o",
        "colab_type": "text"
      },
      "source": [
        "# 1.tensorflowモデルの読み込み（推論）\n",
        "せっかくなので、[tensorflow2.0](https://www.tensorflow.org/api_docs?hl=ja)を使ってみる。<br>\n",
        "[学習済みモデル：Inception ResNet V2](https://tfhub.dev/google/imagenet/inception_resnet_v2/classification/4)は[tensorflowHub](https://www.tensorflow.org/hub?hl=ja)から持ってきてみる。"
      ]
    },
    {
      "cell_type": "code",
      "metadata": {
        "id": "3Y9BVpdZyojP",
        "colab_type": "code",
        "colab": {}
      },
      "source": [
        "from __future__ import absolute_import, division, print_function, unicode_literals\n",
        "\n",
        "# TensorFlow をインストール\n",
        "try:\n",
        "  # %tensorflow_version は Colab 上でのみ利用可能\n",
        "  %tensorflow_version 2.x\n",
        "except Exception:\n",
        "  pass\n",
        "\n",
        "import tensorflow as tf\n",
        "import tensorflow_hub as hub"
      ],
      "execution_count": 0,
      "outputs": []
    },
    {
      "cell_type": "code",
      "metadata": {
        "id": "0t1mC55vyWvc",
        "colab_type": "code",
        "colab": {
          "base_uri": "https://localhost:8080/",
          "height": 35
        },
        "outputId": "918067bb-a9e5-47aa-c83e-e7a0ecce3a38"
      },
      "source": [
        "tf.__version__"
      ],
      "execution_count": 10,
      "outputs": [
        {
          "output_type": "execute_result",
          "data": {
            "text/plain": [
              "'2.1.0'"
            ]
          },
          "metadata": {
            "tags": []
          },
          "execution_count": 10
        }
      ]
    },
    {
      "cell_type": "code",
      "metadata": {
        "id": "MILBXNiTys_I",
        "colab_type": "code",
        "colab": {}
      },
      "source": [
        "tensorflow_model = tf.keras.Sequential([\n",
        "    hub.KerasLayer(\"https://tfhub.dev/google/imagenet/inception_resnet_v2/classification/4\")\n",
        "])\n",
        "tensorflow_model.build([None, 299, 299, 3])  # Batch input shape."
      ],
      "execution_count": 0,
      "outputs": []
    },
    {
      "cell_type": "code",
      "metadata": {
        "id": "UADXOc9T1xCu",
        "colab_type": "code",
        "colab": {
          "base_uri": "https://localhost:8080/",
          "height": 197
        },
        "outputId": "df8c91a1-9e84-4bab-a82f-a7b098231952"
      },
      "source": [
        "tensorflow_model.summary()"
      ],
      "execution_count": 21,
      "outputs": [
        {
          "output_type": "stream",
          "text": [
            "Model: \"sequential\"\n",
            "_________________________________________________________________\n",
            "Layer (type)                 Output Shape              Param #   \n",
            "=================================================================\n",
            "keras_layer (KerasLayer)     multiple                  55875273  \n",
            "=================================================================\n",
            "Total params: 55,875,273\n",
            "Trainable params: 0\n",
            "Non-trainable params: 55,875,273\n",
            "_________________________________________________________________\n"
          ],
          "name": "stdout"
        }
      ]
    },
    {
      "cell_type": "code",
      "metadata": {
        "id": "2G5LKm-U2j5a",
        "colab_type": "code",
        "colab": {}
      },
      "source": [
        ""
      ],
      "execution_count": 0,
      "outputs": []
    }
  ]
}